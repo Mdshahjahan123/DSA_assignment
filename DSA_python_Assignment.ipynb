{
 "cells": [
  {
   "cell_type": "code",
   "execution_count": null,
   "id": "be760687",
   "metadata": {},
   "outputs": [],
   "source": [
    "# Write a program to find all pairs of an integer array whose sum is equal to a given number?"
   ]
  },
  {
   "cell_type": "code",
   "execution_count": 1,
   "id": "ab500f30",
   "metadata": {},
   "outputs": [],
   "source": [
    "def getPairsCount(arr, n, sum):\n",
    "\n",
    "    count = 0 \n",
    "    for i in range(0, n):\n",
    "        for j in range(i + 1, n):\n",
    "            if arr[i] + arr[j] == sum:\n",
    "                count += 1\n",
    "\n",
    "    return count"
   ]
  },
  {
   "cell_type": "code",
   "execution_count": 2,
   "id": "49b2955d",
   "metadata": {},
   "outputs": [
    {
     "name": "stdout",
     "output_type": "stream",
     "text": [
      "Count of pairs is 2\n"
     ]
    }
   ],
   "source": [
    "arr = [1,5,6,2,4,-1]\n",
    "n = len(arr)\n",
    "sum = 6\n",
    "print(\"Count of pairs is\",\n",
    "    getPairsCount(arr, n, sum))"
   ]
  },
  {
   "cell_type": "code",
   "execution_count": null,
   "id": "feb3377f",
   "metadata": {},
   "outputs": [],
   "source": [
    "# Write a program to reverse an array in place? In place means you cannot create a new array. \n",
    "#You have to update the original array."
   ]
  },
  {
   "cell_type": "code",
   "execution_count": 3,
   "id": "bef37512",
   "metadata": {},
   "outputs": [],
   "source": [
    "def reverseList(A, start, end):\n",
    "    while start < end:\n",
    "        A[start], A[end] = A[end], A[start]\n",
    "        start += 1\n",
    "        end -= 1"
   ]
  },
  {
   "cell_type": "code",
   "execution_count": 4,
   "id": "64302daa",
   "metadata": {},
   "outputs": [
    {
     "name": "stdout",
     "output_type": "stream",
     "text": [
      "[1, 2, 3, 4]\n",
      "Reversed list is\n",
      "[4, 3, 2, 1]\n"
     ]
    }
   ],
   "source": [
    "A = [1, 2, 3, 4]\n",
    "print(A)\n",
    "n=len(A)-1\n",
    "reverseList(A, 0, n)\n",
    "print(\"Reversed list is\")\n",
    "print(A)"
   ]
  },
  {
   "cell_type": "code",
   "execution_count": 5,
   "id": "37c8708b",
   "metadata": {},
   "outputs": [],
   "source": [
    "#Write a program to check if two strings are a rotation of each other?"
   ]
  },
  {
   "cell_type": "code",
   "execution_count": 6,
   "id": "92537adc",
   "metadata": {},
   "outputs": [
    {
     "name": "stdout",
     "output_type": "stream",
     "text": [
      "Strings are rotations of each other\n"
     ]
    }
   ],
   "source": [
    "def areRotations(string1, string2):\n",
    "    size1 = len(string1)\n",
    "    size2 = len(string2)\n",
    "    temp = ''\n",
    "\n",
    "    if size1 != size2:\n",
    "        return 0\n",
    "\n",
    "    temp = string1 + string1\n",
    "\n",
    "    if (temp.count(string2)> 0):\n",
    "        return 1\n",
    "    else:\n",
    "        return 0\n",
    "\n",
    "string1 = \"AACD\"\n",
    "string2 = \"ACDA\"\n",
    "\n",
    "if areRotations(string1, string2):\n",
    "    print(\"Strings are rotations of each other\")\n",
    "else:\n",
    "    print(\"Strings are not rotations of each other\")"
   ]
  },
  {
   "cell_type": "code",
   "execution_count": 7,
   "id": "4be5d3c3",
   "metadata": {},
   "outputs": [],
   "source": [
    "# Write a program to print the first non-repeated character from a string?"
   ]
  },
  {
   "cell_type": "code",
   "execution_count": 8,
   "id": "d77ca8df",
   "metadata": {},
   "outputs": [
    {
     "name": "stdout",
     "output_type": "stream",
     "text": [
      "First non-repeating character is f\n"
     ]
    }
   ],
   "source": [
    "NO_OF_CHARS = 256\n",
    "\n",
    "def CharCountArray(string):\n",
    "    count = [0] * NO_OF_CHARS\n",
    "    for i in string:\n",
    "        count[ord(i)]+= 1\n",
    "    return count\n",
    "\n",
    "def firstNonRepeating(string):\n",
    "    count = CharCountArray(string)\n",
    "    index = -1\n",
    "    k = 0\n",
    "\n",
    "    for i in string:\n",
    "        if count[ord(i)] == 1:\n",
    "            index = k\n",
    "            break\n",
    "        k += 1\n",
    "\n",
    "    return index\n",
    "\n",
    "string = \"geeksforgeeks\"\n",
    "index = firstNonRepeating(string)\n",
    "if index == 1:\n",
    "    print(\"Either all characters are repeating or string is empty\")\n",
    "else:\n",
    "    print(\"First non-repeating character is \" + string[index])"
   ]
  },
  {
   "cell_type": "code",
   "execution_count": 9,
   "id": "3d44390c",
   "metadata": {},
   "outputs": [],
   "source": [
    "# Read about the Tower of Hanoi algorithm. Write a program to implement it."
   ]
  },
  {
   "cell_type": "code",
   "execution_count": 10,
   "id": "0c7e7ef0",
   "metadata": {},
   "outputs": [
    {
     "name": "stdout",
     "output_type": "stream",
     "text": [
      "Move disk 1 from rod A to rod B\n",
      "Move disk 2 from rod A to rod C\n",
      "Move disk 1 from rod B to rod C\n",
      "Move disk 3 from rod A to rod B\n",
      "Move disk 1 from rod C to rod A\n",
      "Move disk 2 from rod C to rod B\n",
      "Move disk 1 from rod A to rod B\n",
      "Move disk 4 from rod A to rod C\n",
      "Move disk 1 from rod B to rod C\n",
      "Move disk 2 from rod B to rod A\n",
      "Move disk 1 from rod C to rod A\n",
      "Move disk 3 from rod B to rod C\n",
      "Move disk 1 from rod A to rod B\n",
      "Move disk 2 from rod A to rod C\n",
      "Move disk 1 from rod B to rod C\n"
     ]
    }
   ],
   "source": [
    "def TowerOfHanoi(n , from_rod, to_rod, aux_rod):\n",
    "    if n == 1:\n",
    "        print(\"Move disk 1 from rod\",from_rod,\"to rod\",to_rod)\n",
    "        return\n",
    "    TowerOfHanoi(n-1, from_rod, aux_rod, to_rod)\n",
    "    print(\"Move disk\",n,\"from rod\",from_rod,\"to rod\",to_rod)\n",
    "    TowerOfHanoi(n-1, aux_rod, to_rod, from_rod)\n",
    "        \n",
    "n = 4\n",
    "TowerOfHanoi(n, 'A', 'C', 'B')"
   ]
  },
  {
   "cell_type": "code",
   "execution_count": 14,
   "id": "c30315fe",
   "metadata": {},
   "outputs": [
    {
     "name": "stdout",
     "output_type": "stream",
     "text": [
      "Prefix :  +AB-CD\n"
     ]
    }
   ],
   "source": [
    "\n",
    "# Read about infix, prefix, and postfix expressions. Write a program to convert postfix to prefix expression.\n",
    "def isOperator(x):\n",
    "\n",
    "    if x == \"+\":\n",
    "        return True\n",
    "\n",
    "    if x == \"-\":\n",
    "        return True\n",
    "\n",
    "    if x == \"/\":\n",
    "        return True\n",
    "\n",
    "    if x == \"*\":\n",
    "        return True\n",
    "\n",
    "    return False\n",
    "\n",
    "\n",
    "def postToPre(post_exp):\n",
    "\n",
    "    s = []\n",
    "\n",
    "    length = len(post_exp)\n",
    "\n",
    "    for i in range(length):\n",
    "\n",
    "        if (isOperator(post_exp[i])):\n",
    "\n",
    "            op1 = s[-1]\n",
    "            s.pop()\n",
    "            op2 = s[-1]\n",
    "            s.pop()\n",
    "\n",
    "            temp = post_exp[i] + op2 + op1\n",
    "\n",
    "            s.append(temp)\n",
    "\n",
    "        else:\n",
    "\n",
    "            s.append(post_exp[i])\n",
    "\n",
    "\n",
    "    ans = \"\"\n",
    "    for i in s:\n",
    "        ans += i\n",
    "    return ans\n",
    "\n",
    "\n",
    "if __name__ == \"__main__\":\n",
    "    post_exp = \"AB+CD-\"\n",
    "    \n",
    "    print(\"Prefix : \", postToPre(post_exp))\n",
    "\n",
    " "
   ]
  },
  {
   "cell_type": "code",
   "execution_count": null,
   "id": "c37c92c5",
   "metadata": {},
   "outputs": [],
   "source": [
    "#Convert prefix expression to infix expression"
   ]
  },
  {
   "cell_type": "code",
   "execution_count": 15,
   "id": "b1278fa3",
   "metadata": {},
   "outputs": [
    {
     "name": "stdout",
     "output_type": "stream",
     "text": [
      "((A-(B/C))*((A/K)-L))\n"
     ]
    }
   ],
   "source": [
    "def prefixToInfix(prefix):\n",
    "    stack = []\n",
    "    \n",
    "    i = len(prefix) - 1\n",
    "    while i >= 0:\n",
    "        if not isOperator(prefix[i]):\n",
    "\n",
    "            stack.append(prefix[i])\n",
    "            i -= 1\n",
    "        else:\n",
    "\n",
    "            str = \"(\" + stack.pop() + prefix[i] + stack.pop() + \")\"\n",
    "            stack.append(str)\n",
    "            i -= 1\n",
    "\n",
    "    return stack.pop()\n",
    "\n",
    "def isOperator(c):\n",
    "    if c == \"*\" or c == \"+\" or c == \"-\" or c == \"/\" or c == \"^\" or c == \"(\" or c == \")\":\n",
    "        return True\n",
    "    else:\n",
    "        return False\n",
    "\n",
    "if __name__==\"__main__\":\n",
    "    str = \"*-A/BC-/AKL\"\n",
    "    print(prefixToInfix(str))"
   ]
  },
  {
   "cell_type": "code",
   "execution_count": 16,
   "id": "a388bf6a",
   "metadata": {},
   "outputs": [
    {
     "name": "stdout",
     "output_type": "stream",
     "text": [
      "Balanced\n"
     ]
    }
   ],
   "source": [
    "# Write a program to check if all the brackets are closed in a given code snippet.\n",
    "def areBracketsBalanced(expr):\n",
    "    stack = []\n",
    "\n",
    "    for char in expr:\n",
    "        if char in [\"(\", \"{\", \"[\"]:\n",
    "\n",
    "            stack.append(char)\n",
    "        else:\n",
    "\n",
    "            if not stack:\n",
    "                return False\n",
    "            current_char = stack.pop()\n",
    "            if current_char == '(':\n",
    "                if char != \")\":\n",
    "                    return False\n",
    "            if current_char == '{':\n",
    "                if char != \"}\":\n",
    "                    return False\n",
    "            if current_char == '[':\n",
    "                if char != \"]\":\n",
    "                    return False\n",
    "\n",
    "    if stack:\n",
    "        return False\n",
    "    return True\n",
    "\n",
    "if __name__ == \"__main__\":\n",
    "    expr = \"{()}[]\"\n",
    "\n",
    "    if areBracketsBalanced(expr):\n",
    "        print(\"Balanced\")\n",
    "    else:\n",
    "        print(\"Not Balanced\")"
   ]
  },
  {
   "cell_type": "code",
   "execution_count": 17,
   "id": "11b56dc0",
   "metadata": {},
   "outputs": [
    {
     "name": "stdout",
     "output_type": "stream",
     "text": [
      "Original Stack\n",
      "5\n",
      "4\n",
      "3\n",
      "2\n",
      "1\n",
      "\n",
      "Stack after Reversing\n",
      "1\n",
      "2\n",
      "3\n",
      "4\n",
      "5\n"
     ]
    }
   ],
   "source": [
    "# . Write a program to reverse a stack.\n",
    "class Stack:\n",
    "  \n",
    "   \n",
    "    def __init__(self):\n",
    "        self.Elements = []\n",
    "          \n",
    "    \n",
    "    def push(self, value):\n",
    "        self.Elements.append(value)\n",
    "        \n",
    "    \n",
    "    def pop(self):\n",
    "        return self.Elements.pop()\n",
    "      \n",
    "    \n",
    "    def empty(self):\n",
    "        return self.Elements == []\n",
    "      \n",
    "    \n",
    "    def show(self):\n",
    "        for value in reversed(self.Elements):\n",
    "            print(value)\n",
    "  \n",
    "\n",
    "def BottomInsert(s, value):\n",
    "    \n",
    "    \n",
    "    if s.empty(): \n",
    "          \n",
    "        \n",
    "        s.push(value)\n",
    "          \n",
    "    \n",
    "    else:\n",
    "        popped = s.pop()\n",
    "        BottomInsert(s, value)\n",
    "        s.push(popped)\n",
    "  \n",
    "\n",
    "def Reverse(s):\n",
    "    if s.empty():\n",
    "        pass\n",
    "    else:\n",
    "        popped = s.pop()\n",
    "        Reverse(s)\n",
    "        BottomInsert(s, popped)\n",
    "  \n",
    "  \n",
    "\n",
    "stk = Stack()\n",
    "  \n",
    "stk.push(1)\n",
    "stk.push(2)\n",
    "stk.push(3)\n",
    "stk.push(4)\n",
    "stk.push(5)\n",
    "  \n",
    "print(\"Original Stack\")\n",
    "stk.show()\n",
    "  \n",
    "print(\"\\nStack after Reversing\")\n",
    "Reverse(stk)\n",
    "stk.show()"
   ]
  },
  {
   "cell_type": "code",
   "execution_count": 18,
   "id": "415d5d7c",
   "metadata": {},
   "outputs": [
    {
     "name": "stdout",
     "output_type": "stream",
     "text": [
      "How many numbers: 12\n",
      "Enter number: 2\n",
      "Enter number: 4\n",
      "Enter number: 5\n",
      "Enter number: 87\n",
      "Enter number: 34\n",
      "Enter number: 23\n",
      "Enter number: 56\n",
      "Enter number: 24\n",
      "Enter number: 78\n",
      "Enter number: 53\n",
      "Enter number: 233\n",
      "Enter number: 7\n",
      "Smallest number in the list is :   2\n"
     ]
    }
   ],
   "source": [
    " #Write a program to find the smallest number using a stack.\n",
    "First = []\n",
    "num = int(input('How many numbers: '))\n",
    "\n",
    "for n in range(num):\n",
    "    numbers = int(input('Enter number: '))\n",
    "    First.append(numbers)\n",
    "    \n",
    "print(\"Smallest number in the list is :  \", min(First))"
   ]
  },
  {
   "cell_type": "code",
   "execution_count": null,
   "id": "6b5e53f0",
   "metadata": {},
   "outputs": [],
   "source": []
  }
 ],
 "metadata": {
  "kernelspec": {
   "display_name": "Python 3 (ipykernel)",
   "language": "python",
   "name": "python3"
  },
  "language_info": {
   "codemirror_mode": {
    "name": "ipython",
    "version": 3
   },
   "file_extension": ".py",
   "mimetype": "text/x-python",
   "name": "python",
   "nbconvert_exporter": "python",
   "pygments_lexer": "ipython3",
   "version": "3.9.7"
  }
 },
 "nbformat": 4,
 "nbformat_minor": 5
}
